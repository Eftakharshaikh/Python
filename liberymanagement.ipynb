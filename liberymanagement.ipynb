{
 "cells": [
  {
   "cell_type": "code",
   "execution_count": null,
   "id": "1a486070-4627-44b7-9084-76345974d426",
   "metadata": {},
   "outputs": [
    {
     "name": "stdout",
     "output_type": "stream",
     "text": [
      "\n",
      "Shaikh Library For Success\n",
      "-----------------------------------------------\n",
      "Please Enter Your User Name And Password\n",
      "-----------------------------------------------\n",
      "\n"
     ]
    },
    {
     "name": "stdin",
     "output_type": "stream",
     "text": [
      "Please Enter Your User Name:  shaikh\n",
      "Please Enter Your Password:  success123\n"
     ]
    },
    {
     "name": "stdout",
     "output_type": "stream",
     "text": [
      "Welcome Mr. Shaikh....\n",
      "\n",
      "************************************************\n",
      "Press 1 For Issue A Book (Add Borrower Details)\n",
      "Press 2 For Return A Book (Delete Borrower Detail)\n",
      "Press 3 For Available Books\n",
      "Press 4 For Borrower List\n",
      "Press 5 To Exit\n",
      "************************************************\n",
      "\n"
     ]
    },
    {
     "name": "stdin",
     "output_type": "stream",
     "text": [
      "Please Select Your choice And proceed:  5\n"
     ]
    },
    {
     "name": "stdout",
     "output_type": "stream",
     "text": [
      "Exiting the Library Management System. Goodbye!\n"
     ]
    }
   ],
   "source": [
    "print(\"\"\"\n",
    "Shaikh Library For Success\n",
    "-----------------------------------------------\n",
    "Please Enter Your User Name And Password\n",
    "-----------------------------------------------\n",
    "\"\"\")\n",
    "\n",
    "while True:# 1st wile true start\n",
    "    username = str(input(\"Please Enter Your User Name: \"))\n",
    "    if username == \"shaikh\":\n",
    "        password = str(input(\"Please Enter Your Password: \"))\n",
    "        if password == \"success123\":\n",
    "            print(\"Welcome Mr. Shaikh....\")\n",
    "\n",
    "            books = {\"quran\": 5, \"bible\": 3, \"geeta\": 6}\n",
    "            borrowers = {}\n",
    "\n",
    "            while True:# 2st wile true start\n",
    "                print(\"\"\"\n",
    "************************************************\n",
    "Press 1 For Issue A Book (Add Borrower Details)\n",
    "Press 2 For Return A Book (Delete Borrower Detail)\n",
    "Press 3 For Available Books\n",
    "Press 4 For Borrower List\n",
    "Press 5 To Exit\n",
    "************************************************\n",
    "\"\"\")\n",
    "                choice = int(input(\"Please Select Your choice And proceed: \"))\n",
    "\n",
    "                if choice == 1:# 1st if start\n",
    "                    name = str(input(\"Enter Borrower Name: \"))\n",
    "                    mobile = int(input(\"Enter Borrower Mobile No: \"))\n",
    "                    issue_book = str(input(\"Enter Issue Book Name (quran, bible, and geeta): \"))\n",
    "                    if issue_book in books:#1.1 st if start\n",
    "                        if books[issue_book] > 0:#1.1.1 if start\n",
    "                            books[issue_book] -= 1\n",
    "                            borrowers[name] = {\"Mobile\": mobile, \"Issue Book\": issue_book}\n",
    "                            print(f\"{issue_book.upper()} issued successfully to {name.capitalize()}\")\n",
    "                        else:\n",
    "                            print(f\"Sorry, {issue_book.upper()} is out of stock.\")\n",
    "                    \n",
    "                    else:\n",
    "                        print(\"Book not available. Please select from quran, bible, and geeta only.\")\n",
    "                \n",
    "                elif choice == 2:\n",
    "                    return_book = str(input(\"Enter Book Name to Return (quran, bible, and geeta): \"))\n",
    "                    borrower_name = str(input(\"Enter Borrower Name: \"))\n",
    "                    if borrower_name in borrowers and borrowers[borrower_name][\"Issue Book\"] == return_book:\n",
    "                        books[return_book] += 1\n",
    "                        del borrowers[borrower_name]\n",
    "                        print(f\"{return_book.capitalize()} returned successfully by {borrower_name.capitalize()}\")\n",
    "                    \n",
    "                    else:\n",
    "                        print(\"Invalid borrower name or book name. Please check and try again.\")\n",
    "                \n",
    "                elif choice == 3:\n",
    "                    print(\"Available Books:\")\n",
    "                    for book, stock in books.items():\n",
    "                        print(f\"{book.capitalize()}: {stock}\")\n",
    "                \n",
    "                elif choice == 4:\n",
    "                    print(\"Borrower List:\")\n",
    "                    for name, details in borrowers.items():\n",
    "                        print(f\"Name: {name.capitalize()}, Mobile: {details['Mobile']}, Book: {details['Issue Book'].capitalize()}\")\n",
    "                \n",
    "                elif choice == 5:\n",
    "                    print(\"Logout the Library Management System. Goodbye!\")\n",
    "                    break\n",
    "                \n",
    "                else:\n",
    "                    print(\"Invalid choice. Please select a valid option.\")\n",
    "        \n",
    "        else:\n",
    "            print(\"Wrong Password!!! Please check And Try Again.\")\n",
    "    \n",
    "    else:\n",
    "        print(\"Please Enter Your Valid User Name\")\n"
   ]
  },
  {
   "cell_type": "code",
   "execution_count": null,
   "id": "fb9dbf4f-2fc8-4ab7-9ed4-4f2dc95ec51c",
   "metadata": {},
   "outputs": [],
   "source": []
  }
 ],
 "metadata": {
  "kernelspec": {
   "display_name": "Python 3 (ipykernel)",
   "language": "python",
   "name": "python3"
  },
  "language_info": {
   "codemirror_mode": {
    "name": "ipython",
    "version": 3
   },
   "file_extension": ".py",
   "mimetype": "text/x-python",
   "name": "python",
   "nbconvert_exporter": "python",
   "pygments_lexer": "ipython3",
   "version": "3.11.5"
  }
 },
 "nbformat": 4,
 "nbformat_minor": 5
}
