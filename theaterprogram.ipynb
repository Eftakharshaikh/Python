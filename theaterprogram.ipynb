{
 "cells": [
  {
   "cell_type": "code",
   "execution_count": null,
   "id": "ac104cac-5078-42ad-9b8f-9f5e5ed84332",
   "metadata": {},
   "outputs": [
    {
     "name": "stdin",
     "output_type": "stream",
     "text": [
      "Enter Customer's Name:  eftakhar\n"
     ]
    },
    {
     "name": "stdout",
     "output_type": "stream",
     "text": [
      "\n",
      "        for jawan press 1\n",
      "        for fukrey press 2\n",
      "        for king kong press 3\n",
      "        \n"
     ]
    },
    {
     "name": "stdin",
     "output_type": "stream",
     "text": [
      "Sellect movie 1\n"
     ]
    },
    {
     "name": "stdout",
     "output_type": "stream",
     "text": [
      "Jawan\n",
      "\n",
      "        Select 1 For Silver Seat Rs. 200\n",
      "        Select 2 For Gold Seat rs. 350\n",
      "        Select 3 For Recliner 700\n",
      "        \n"
     ]
    },
    {
     "name": "stdin",
     "output_type": "stream",
     "text": [
      "Select Seat Type 1\n"
     ]
    },
    {
     "name": "stdout",
     "output_type": "stream",
     "text": [
      "silver\n"
     ]
    },
    {
     "name": "stdin",
     "output_type": "stream",
     "text": [
      "Enter Qty Of seat 3\n"
     ]
    },
    {
     "name": "stdout",
     "output_type": "stream",
     "text": [
      "Total Ticket cost: 3 x 200 = Rs.  600\n",
      "Seat Not Define. Try Again\n"
     ]
    }
   ],
   "source": [
    "## theater program\n",
    "\n",
    "silver=75\n",
    "gold=45\n",
    "recliner=30\n",
    "amount=0\n",
    "combo=200 #combo 200 value in Rs\n",
    "\n",
    "#customer name input\n",
    "while True:\n",
    "    while True:\n",
    "        name=(input(\"Enter Customer's Name: \"))\n",
    "        # select movie of choice\n",
    "        print(\"\"\"\n",
    "        for jawan press 1\n",
    "        for fukrey press 2\n",
    "        for king kong press 3\n",
    "        \"\"\")\n",
    "        movie=(int(input(\"Sellect movie\")))\n",
    "        if movie == 1:\n",
    "          print(\"Jawan\")\n",
    "        elif movie == 2:\n",
    "          print(\"Fukrey 3\")\n",
    "        elif movie==3:\n",
    "          print(\"King Kong\")\n",
    "        else:\n",
    "          print(\"Not Found. Try Again\")\n",
    "          continue  \n",
    "        \n",
    "        #select type of seat and qty of seat\n",
    "        \n",
    "        #define types and qty of seat\n",
    "        \n",
    "        \n",
    "        print(\"\"\"\n",
    "        Select 1 For Silver Seat Rs. 200\n",
    "        Select 2 For Gold Seat rs. 350\n",
    "        Select 3 For Recliner 700\n",
    "        \"\"\")\n",
    "        \n",
    "        #start seat type input - silver\n",
    "        seat_type= int(input(\"Select Seat Type\"))\n",
    "        \n",
    "        # Silver Seat\n",
    "        if seat_type == 1:\n",
    "            print(\"silver\")\n",
    "        if seat_type == 1:\n",
    "            qty=(int(input(\"Enter Qty Of seat\")))# seat qty start\n",
    "            if qty <= silver:\n",
    "                silver -= qty\n",
    "                amount += 200\n",
    "                print(\"Total Ticket cost:\", qty, \"x\", 200, \"=\",\"Rs. \", amount*qty)\n",
    "            else:\n",
    "                print(\"House Full! Please Try Other seat type\")\n",
    "                continue    \n",
    "        #gold seat\n",
    "        elif seat_type == 2:\n",
    "            print(\"gold\")\n",
    "        if seat_type == 2:\n",
    "            qty=(int(input(\"Enter Qty Of seat\")))# seat qty start\n",
    "            if qty <= gold:\n",
    "                gold -= qty\n",
    "                amount += 350\n",
    "            else:\n",
    "                print(\"House Full! Please Try Other seat type\")\n",
    "                continue\n",
    "       \n",
    "        # Recliner Seat\n",
    "        elif seat_type == 3:\n",
    "            print(\"recliner\")\n",
    "            if seat_type == 3:\n",
    "                qty=(int(input(\"Enter Qty Of seat\")))# seat qty start\n",
    "                if qty <= recliner:\n",
    "                    recliner -= qty\n",
    "                    amount += 700\n",
    "            else:\n",
    "                print(\"House Full! Please Try Other seat type\")\n",
    "                continue\n",
    "        else:\n",
    "          print(\"Seat Not Define. Try Again\")\n",
    "          continue  \n",
    "       \n",
    "        #combo add on\n",
    "        print(\"Coke + Veg. Burger +  Fries\", \"All This in Just Rs. 200\")\n",
    "        com=(str(input(\"Do You Want To Add Combo? yes/no : \")))\n",
    "        if com == \"yes\":\n",
    "            print(\"Combo Price: \", \"Rs. \",combo*qty)\n",
    "        else:\n",
    "            print(\"No\")\n",
    "            \n",
    "    \n",
    "        print(\"-\"*50)\n",
    "        print(\"WELLCOME TO EFTAKHAR MULTIPLEX\")\n",
    "        print(\"           MUMBAI\")\n",
    "        print(\"-\"*50)\n",
    "        print(name, \"Seat No: XXX \", \"Screen 1\")\n",
    "        print(movie)\n",
    "        print(seat_type)\n",
    "        print(\"Ticket Cost:\",amount*qty)\n",
    "        print(\"Combo Cost:\", combo*qty)\n",
    "        print(\"total Cost:\", (amount+combo)*qty)\n",
    "        print(\"-\"*50)\n",
    "        print(\"Visit Again Soon! Hope You Enjoy Your Time...\")\n",
    "        print(\"-\"*50)\n",
    "        next_cust=(str(input(\"Do You Want to Add Next Customer? yes/no\")))\n",
    "        if next_cust==\"yes\":\n",
    "            print(\"Available Seat Silver\", silver)\n",
    "            print(\"Available Seat Gold\", gold)\n",
    "            print(\"Available Seat Re\", recliner)\n",
    "            continue\n",
    "        else:\n",
    "            break"
   ]
  },
  {
   "cell_type": "code",
   "execution_count": null,
   "id": "16fa92a9-f985-4dc7-8f10-6b5de8b322f0",
   "metadata": {},
   "outputs": [],
   "source": []
  }
 ],
 "metadata": {
  "kernelspec": {
   "display_name": "Python 3 (ipykernel)",
   "language": "python",
   "name": "python3"
  },
  "language_info": {
   "codemirror_mode": {
    "name": "ipython",
    "version": 3
   },
   "file_extension": ".py",
   "mimetype": "text/x-python",
   "name": "python",
   "nbconvert_exporter": "python",
   "pygments_lexer": "ipython3",
   "version": "3.11.5"
  }
 },
 "nbformat": 4,
 "nbformat_minor": 5
}
